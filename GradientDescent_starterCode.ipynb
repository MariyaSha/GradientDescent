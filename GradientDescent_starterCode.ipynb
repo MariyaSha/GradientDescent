{
 "cells": [
  {
   "cell_type": "markdown",
   "metadata": {},
   "source": [
    "## Gradient Descent\n",
    "\n",
    "#### STARTER CODE - please modify the gradient descent function!!!\n",
    "\n",
    "as shown in the following tutorial: https://youtu.be/jwStsp8JUPU\n",
    "<br>\n",
    "by: Mariya Sha\n",
    "<br>\n",
    "enjoy! :)"
   ]
  },
  {
   "cell_type": "code",
   "execution_count": null,
   "metadata": {},
   "outputs": [],
   "source": [
    "import numpy as np\n",
    "\n",
    "# Activation Function\n",
    "def sigmoid(w_sum):\n",
    "    return 1/(1+np.exp(-w_sum))\n",
    "\n",
    "# Get Prediction\n",
    "def predict(features, weights, bias):\n",
    "    return sigmoid(np.dot(features, weights) + bias)\n",
    "\n",
    "# Loss Function\n",
    "def cross_entropy(target, pred):\n",
    "    return -(target*np.log10(pred)+(1-target)*(np.log10(1-pred)))\n",
    "\n",
    "# Update Weights\n",
    "def gradient_descent(x, y, weights, bias, learnrate, pred):\n",
    "    '''\n",
    "    argument data types:\n",
    "        feature, weights = lists with 3 items\n",
    "        target = integer (0 or 1)\n",
    "        prediction, l_rate, bias = floating point numbers\n",
    "    '''\n",
    "    return print(\"please define the function\")\n",
    "\n",
    "# Data\n",
    "features = np.array(([0.1,0.5,0.2],[0.2,0.3,0.1],[0.7,0.4,0.2],[0.1,0.4,0.3]))\n",
    "targets = np.array([0,1,0,1])\n",
    "epochs = 10\n",
    "learnrate = 0.1\n",
    "errors = []\n",
    "weights = np.array([0.4, 0.2, 0.6])\n",
    "bias = 0.5\n",
    "\n",
    "new_weights = []\n",
    "\n",
    "for e in range(epochs):\n",
    "    for x, y in zip(features, targets):\n",
    "        pred = predict(x, weights, bias)\n",
    "        error = cross_entropy(y, pred)\n",
    "        #weights, bias = gradient_descent(x, y, weights, bias, learnrate, pred)\n",
    "    \n",
    "    # Printing out the log-loss error on the training set\n",
    "    out = predict(features, weights, bias)\n",
    "    loss = np.mean(cross_entropy(targets, out))\n",
    "    errors.append(loss)\n",
    "    print(\"\\n========== Epoch\", e,\"==========\")\n",
    "    print(\"Average loss: \", loss)\n"
   ]
  },
  {
   "cell_type": "code",
   "execution_count": null,
   "metadata": {},
   "outputs": [],
   "source": []
  }
 ],
 "metadata": {
  "kernelspec": {
   "display_name": "Python 3 (ipykernel)",
   "language": "python",
   "name": "python3"
  },
  "language_info": {
   "codemirror_mode": {
    "name": "ipython",
    "version": 3
   },
   "file_extension": ".py",
   "mimetype": "text/x-python",
   "name": "python",
   "nbconvert_exporter": "python",
   "pygments_lexer": "ipython3",
   "version": "3.9.7"
  }
 },
 "nbformat": 4,
 "nbformat_minor": 4
}
